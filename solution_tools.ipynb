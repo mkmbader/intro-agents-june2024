{
 "cells": [
  {
   "cell_type": "markdown",
   "metadata": {},
   "source": [
    "# Introduction to LLM Agents with LangChain\n",
    "## Solutions: Tools\n",
    "\n",
    "**Content:**\n",
    "1. [Exercise 1 (a): Explore tool parameters](#1a)\n",
    "2. [Exercise 1 (b): Run tool and explore output](#1b)\n",
    "3. [Exercise 2 (a): Build your own Weather tool](#2a)\n",
    "4. [Exercise 2 (b): Build your own Image tool](#2b)"
   ]
  },
  {
   "cell_type": "code",
   "execution_count": 1,
   "metadata": {},
   "outputs": [],
   "source": [
    "# Run this cell once, if you have not run the following command previously in the terminal. \n",
    "# Afterwards commenting it out  so it does not clutter your notebook.\n",
    "\n",
    "# !pip3 install -r requirements.txt"
   ]
  },
  {
   "cell_type": "code",
   "execution_count": 2,
   "metadata": {},
   "outputs": [],
   "source": [
    "import requests\n",
    "from langchain_community.tools import WikipediaQueryRun\n",
    "from langchain_community.utilities import WikipediaAPIWrapper\n",
    "from langchain.pydantic_v1 import BaseModel, Field\n",
    "from langchain.tools import StructuredTool\n",
    "from helper_functions.keys import HUGGING_FACE_KEY"
   ]
  },
  {
   "cell_type": "markdown",
   "metadata": {},
   "source": [
    "---"
   ]
  },
  {
   "cell_type": "markdown",
   "metadata": {},
   "source": [
    "#### Exercise 1 (a): Explore tool parameters <a id='1a'></a>\n",
    "\n",
    "**Task:**  \n",
    "Use the methods ``name``, ``description``, ``args``, ``return_direct``, ``metadata`` to familiarize yourself with the parameters of the tool. What is the meaning of the different parameters?\n",
    "\n",
    "**Background:** \n",
    "Each tool is a ``BaseTool`` class object, you can find its definition [here](https://api.python.langchain.com/en/latest/tools/langchain_core.tools.BaseTool.html#langchain_core.tools.BaseTool)."
   ]
  },
  {
   "cell_type": "code",
   "execution_count": 3,
   "metadata": {},
   "outputs": [],
   "source": [
    "api_wrapper = WikipediaAPIWrapper(top_k_results=1)#, doc_content_chars_max=1000)\n",
    "wiki_tool = WikipediaQueryRun(api_wrapper=api_wrapper)"
   ]
  },
  {
   "cell_type": "markdown",
   "metadata": {},
   "source": [
    "**SOLUTION:**"
   ]
  },
  {
   "cell_type": "code",
   "execution_count": 4,
   "metadata": {},
   "outputs": [
    {
     "name": "stdout",
     "output_type": "stream",
     "text": [
      "Name:  wikipedia\n",
      "Description:  A wrapper around Wikipedia. Useful for when you need to answer general questions about people, places, companies, facts, historical events, or other subjects. Input should be a search query.\n",
      "Input argument schema:  {'query': {'title': 'Query', 'description': 'query to look up on wikipedia', 'type': 'string'}}\n",
      "Return output to user?  False\n",
      "Metadata:  None\n"
     ]
    }
   ],
   "source": [
    "print(\"Name: \", wiki_tool.name)\n",
    "print(\"Description: \", wiki_tool.description)\n",
    "print(\"Input argument schema: \", wiki_tool.args)\n",
    "print(\"Return output to user? \", wiki_tool.return_direct)\n",
    "print(\"Metadata: \", wiki_tool.metadata)"
   ]
  },
  {
   "cell_type": "markdown",
   "metadata": {},
   "source": [
    "---"
   ]
  },
  {
   "cell_type": "markdown",
   "metadata": {},
   "source": [
    "#### Exercise 1 (b): Run tool and explore output <a id='1b'></a>\n",
    "\n",
    "**TASK:**\n",
    "* Use the ``.run(tool_input)`` method to execute the tool. The ``tool_input`` is the search term that you'd like to query wikipedia with.\n",
    "* [Optional] Check out the arguments of the WikipediaAPIWrapper [here](https://api.python.langchain.com/en/latest/utilities/langchain_community.utilities.wikipedia.WikipediaAPIWrapper.html) and modify its parameters above. How does the output change? "
   ]
  },
  {
   "cell_type": "markdown",
   "metadata": {},
   "source": [
    "**SOLUTION:**"
   ]
  },
  {
   "cell_type": "code",
   "execution_count": 5,
   "metadata": {},
   "outputs": [
    {
     "name": "stdout",
     "output_type": "stream",
     "text": [
      "Page: Ruth Bader Ginsburg\n",
      "Summary: Joan Ruth Bader Ginsburg ( BAY-dər GHINZ-burg; née Bader; March 15, 1933 – September 18, 2020) was an American lawyer and jurist who served as an associate justice of the Supreme Court of the United States from 1993 until her death in 2020. She was nominated by President Bill Clinton to replace retiring justice Byron White, and at the time was viewed as a moderate consensus-builder. Ginsburg was the first Jewish woman and the second woman to serve on the Court, after Sandra Day O'Connor. During her tenure, Ginsburg authored the majority opinions in cases such as United States v. Virginia (1996), Olmstead v. L.C. (1999), Friends of the Earth, Inc. v. Laidlaw Environmental Services, Inc. (2000), and City of Sherrill v. Oneida Indian Nation of New York (2005). Later in her tenure, Ginsburg received attention for passionate dissents that reflected liberal views of the law. She was popularly dubbed \"the Notorious R.B.G.\", a moniker she later embraced.\n",
      "Ginsburg was born and grew up in Brooklyn, New York. Just over a year later her older sister and only sibling, Marilyn, died of meningitis at the age of six. Her mother died shortly before she graduated from high school. She earned her bachelor's degree at Cornell University and married Martin D. Ginsburg, becoming a mother before starting law school at Harvard, where she was one of the few women in her class. Ginsburg transferred to Columbia Law School, where she graduated joint first in her class. During the early 1960s she worked with the Columbia Law School Project on International Procedure, learned Swedish, and co-authored a book with Swedish jurist Anders Bruzelius; her work in Sweden profoundly influenced her thinking on gender equality. She then became a professor at Rutgers Law School and Columbia Law School, teaching civil procedure as one of the few women in her field.\n",
      "Ginsburg spent much of her legal career as an advocate for gender equality and women's rights, winning many arguments before the Supreme Court. She advocated as a volunteer attorney for the American Civil Liberties Union and was a member of its board of directors and one of its general counsel in the 1970s. In 1980, President Jimmy Carter appointed her to the U.S. Court of Appeals for the District of Columbia Circuit, where she served until her appointment to the Supreme Court in 1993. Between O'Connor's retirement in 2006 and the appointment of Sonia Sotomayor in 2009, she was the only female justice on the Supreme Court. During that time, Ginsburg became more forceful with her dissents, such as with Ledbetter v. Goodyear Tire & Rubber Co. (2007).\n",
      "Despite two bouts with cancer and public pleas from liberal law scholars, she decided not to retire in 2013 or 2014 when President Barack Obama and a Democratic-controlled Senate could appoint and confirm her successor. Ginsburg died at her home in Washington, D.C., in September 2020, at the age of 87, from complications of metastatic pancreatic cancer. The vacancy created by her death was filled 39 days later by Amy Coney Barrett. The result was one of three major rightward shifts in the Court since 1953, following the appointment of Clarence Thomas to replace Thurgood Marshall in 1991 and the appointment of Warren Burger to replace Earl Warren in 1969.\n"
     ]
    }
   ],
   "source": [
    "tool_input = 'pyladies'\n",
    "tool_input = 'ruth bader ginsburg'\n",
    "\n",
    "print(wiki_tool.run(tool_input))"
   ]
  },
  {
   "cell_type": "markdown",
   "metadata": {},
   "source": [
    "---"
   ]
  },
  {
   "cell_type": "markdown",
   "metadata": {},
   "source": [
    "#### Exercise 2 (a): Build your own Weather tool <a id='2a'></a>\n",
    "The goal is to build a tool that extracts weather information from the weather site visualcrossing.com. You typically need an API key to extract information from a website. In this example we provide you with the API key. \n",
    "\n",
    "**TASK:** \n",
    "- Build the tool by defining the input parameters and the descriptions. The tool function is already provided to you. \n",
    "- Turn function, description and input parameters into a tool through ``StructuredTool.from_function()``.\n",
    "- Test if the tool gives an output."
   ]
  },
  {
   "cell_type": "markdown",
   "metadata": {},
   "source": [
    "**SOLUTION:**"
   ]
  },
  {
   "cell_type": "code",
   "execution_count": 6,
   "metadata": {},
   "outputs": [
    {
     "name": "stdout",
     "output_type": "stream",
     "text": [
      "Error: 401\n"
     ]
    }
   ],
   "source": [
    "# Define the function\n",
    "def extract_city_weather(city:str)->str:\n",
    "    api_key = ''\n",
    "\n",
    "    # Build the API URL\n",
    "    url = f\"https://weather.visualcrossing.com/VisualCrossingWebServices/rest/services/timeline/{city}?key={api_key}&unitGroup=metric\"\n",
    "\n",
    "    response = requests.get(url)\n",
    "\n",
    "    if response.status_code == 200:\n",
    "        data = response.json()\n",
    "        current_temp = data['days'][0]['temp']\n",
    "        output = f\"Current temperature in {city}: {current_temp}°C\"\n",
    "    else:\n",
    "        output = f\"Error: {response.status_code}\"\n",
    "\n",
    "    return output\n",
    "\n",
    "# Input parameter definition\n",
    "class WeatherInput(BaseModel):\n",
    "    city: str = Field(description=\"City name\")\n",
    "\n",
    "\n",
    "# the tool description\n",
    "description: str = (\n",
    "        \"Allows to extract the current temperature in a specific city\"\n",
    "    )\n",
    "\n",
    "# fuse the function, input parameters and description into a tool. \n",
    "weather_tool = StructuredTool.from_function(\n",
    "    func=extract_city_weather,\n",
    "    name=\"weather\",\n",
    "    description=description,\n",
    "    args_schema=WeatherInput,\n",
    "    return_direct=False,\n",
    ")\n",
    "\n",
    "# test the output of the tool\n",
    "print(weather_tool.run('Amsterdam'))"
   ]
  },
  {
   "cell_type": "markdown",
   "metadata": {},
   "source": [
    "---"
   ]
  },
  {
   "cell_type": "markdown",
   "metadata": {},
   "source": [
    "#### Exercise 2 (b): Build your own Image tool <a id='2b'></a>\n",
    "The goal is to build a tool that generates an image based on a given prompt. **That means that later when you can build the Agent you can have an LLM that only outputs text, but also images!**  \n",
    "\n",
    "To develop this, you can make use of `mobius`, text-to-image model available on HuggingFace. We provided a HuggingFace token (that you loaded in the start). \n",
    "\n",
    "**TASK:** \n",
    "- Build the tool by defining the input parameters and the descriptions. The tool function is already provided to you. \n",
    "- Turn function, description and input parameters into a tool through ``StructuredTool.from_function()``.\n",
    "- Test if the tool gives an output."
   ]
  },
  {
   "cell_type": "markdown",
   "metadata": {},
   "source": [
    "**SOLUTION:**"
   ]
  },
  {
   "cell_type": "code",
   "execution_count": 7,
   "metadata": {},
   "outputs": [],
   "source": [
    "def text_to_image(payload:str):\n",
    "\n",
    "    # Call the text-to-image API with the provided palaod\n",
    "    API_URL = \"https://api-inference.huggingface.co/models/Corcelio/mobius\"\n",
    "    headers = {\"Authorization\": f\"Bearer {HUGGING_FACE_KEY}\"}\n",
    "\n",
    "    def query(payload):\n",
    "        response = requests.post(API_URL, headers=headers, json=payload)\n",
    "        return response.content\n",
    "    \n",
    "    image_bytes = query({\n",
    "        \"inputs\": payload,\n",
    "    })\n",
    "\n",
    "    image = Image.open(io.BytesIO(image_bytes))\n",
    "    \n",
    "    # Resize the image\n",
    "    new_size = (400, 400)  # Example new size (width, height)\n",
    "    resized_image = image.resize(new_size)\n",
    "\n",
    "\n",
    "    # Save the resized image to a file\n",
    "    image_path = f'images/image_{payload.replace(\" \", \"_\")}.jpg'\n",
    "    resized_image.save(image_path)\n",
    "    \n",
    "    # Return the path to the saved image\n",
    "    return f'{image_path} '\n",
    "\n",
    "\n",
    "# Input parameter definition\n",
    "class ImageInput(BaseModel):\n",
    "    payload: str = Field(description=\"What should be converted into image\")\n",
    "\n",
    "\n",
    "# the tool description\n",
    "images_tool_description: str = (\n",
    "       \"Genrate an image based on the input text and return its path\"\n",
    "    )\n",
    "\n",
    "# fuse the function, input parameters and description into a tool. \n",
    "image_tool = StructuredTool.from_function(\n",
    "        func=text_to_image,\n",
    "        name=\"create_image\",\n",
    "        description=images_tool_description,\n",
    "        args_schema=ImageInput,\n",
    "        return_direct=False,\n",
    ")"
   ]
  },
  {
   "cell_type": "markdown",
   "metadata": {},
   "source": [
    "---"
   ]
  }
 ],
 "metadata": {
  "kernelspec": {
   "display_name": "Python 3",
   "language": "python",
   "name": "python3"
  },
  "language_info": {
   "codemirror_mode": {
    "name": "ipython",
    "version": 3
   },
   "file_extension": ".py",
   "mimetype": "text/x-python",
   "name": "python",
   "nbconvert_exporter": "python",
   "pygments_lexer": "ipython3",
   "version": "3.10.9"
  }
 },
 "nbformat": 4,
 "nbformat_minor": 2
}
