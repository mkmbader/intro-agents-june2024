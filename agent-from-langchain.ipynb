{
 "cells": [
  {
   "cell_type": "markdown",
   "metadata": {},
   "source": [
    "# Buidling an agent using Langchain\n",
    "\n",
    "Basic building blocks:\n",
    "* Tools: Tools in the context of Large Language Models refer to various functionalities and extensions that enhance the capabilities of these models beyond basic text generation. \n",
    "    * Langchain default tools\n",
    "    * Custom tools\n",
    "* agent: agent llm + prompt + invoke chain\n",
    "* agent executor"
   ]
  },
  {
   "cell_type": "markdown",
   "metadata": {},
   "source": [
    "**Ideas**\n",
    "* what about a summarization tool? I'd like to see if we can 1) extract wiki content and then 2) summarize it\n",
    "* Better wiki tool: QA retrieval chain: https://python.langchain.com/v0.1/docs/integrations/retrievers/wikipedia/\n",
    "* this shows how to set up the wikipedia tool as custom tool: https://python.langchain.com/v0.1/docs/modules/tools/\n",
    "* what is the difference between tools and openai functions\n",
    "\n",
    "\n",
    "Use cases:\n",
    "* create an agent that cna combine wikipedia data with relevant real-world information from API's. PRovide comprehensive answers tha encompass historical context and current data (eg weather, )\n",
    "* create agent that can answer questions about specific topics by searching wiki, use NLP to analyze the articles content, summarize the key info and identify relevant sections, provide clear answers"
   ]
  },
  {
   "cell_type": "code",
   "execution_count": null,
   "metadata": {},
   "outputs": [],
   "source": [
    "#Todo: dependency management\n",
    "\n",
    "# !pip3 install langchain\n",
    "# !pip3 install langchain_openai\n",
    "# !pip3 install langchain_community\n",
    "# pip install wikipedia\n",
    "# pip install langchainhub"
   ]
  },
  {
   "cell_type": "markdown",
   "metadata": {},
   "source": [
    "## A Langchain default tool: the [Wikipedia tool](https://python.langchain.com/v0.1/docs/integrations/tools/wikipedia/)\n"
   ]
  },
  {
   "cell_type": "code",
   "execution_count": 84,
   "metadata": {},
   "outputs": [],
   "source": [
    "from langchain_community.tools import WikipediaQueryRun\n",
    "from langchain_community.utilities import WikipediaAPIWrapper\n",
    "\n",
    "api_wrapper = WikipediaAPIWrapper(top_k_results=1)#, doc_content_chars_max=1000)\n",
    "wiki_tool = WikipediaQueryRun(api_wrapper=api_wrapper)"
   ]
  },
  {
   "cell_type": "code",
   "execution_count": 79,
   "metadata": {},
   "outputs": [
    {
     "name": "stdout",
     "output_type": "stream",
     "text": [
      "wikipedia\n",
      "A wrapper around Wikipedia. Useful for when you need to answer general questions about people, places, companies, facts, historical events, or other subjects. Input should be a search query.\n",
      "{'query': {'title': 'Query', 'type': 'string'}}\n",
      "False\n"
     ]
    }
   ],
   "source": [
    "print(wiki_tool.name)\n",
    "print(wiki_tool.description)\n",
    "print(wiki_tool.args)\n",
    "print(wiki_tool.return_direct)"
   ]
  },
  {
   "cell_type": "code",
   "execution_count": 100,
   "metadata": {},
   "outputs": [
    {
     "name": "stdout",
     "output_type": "stream",
     "text": [
      "Page: Ruth Bader Ginsburg\n",
      "Summary: Joan Ruth Bader Ginsburg ( BAY-dər GHINZ-burg; née Bader; March 15, 1933 – September 18, 2020) was an American lawyer and jurist who served as an associate justice of the Supreme Court of the United States from 1993 until her death in 2020. She was nominated by President Bill Clinton to replace retiring justice Byron White, and at the time was viewed as a moderate consensus-builder. Ginsburg was the first Jewish woman and the second woman to serve on the Court, after Sandra Day O'Connor. During her tenure, Ginsburg authored the majority opinions in cases such as United States v. Virginia (1996), Olmstead v. L.C. (1999), Friends of the Earth, Inc. v. Laidlaw Environmental Services, Inc. (2000), and City of Sherrill v. Oneida Indian Nation of New York (2005). Later in her tenure, Ginsburg received attention for passionate dissents that reflected liberal views of the law. She was popularly dubbed \"the Notorious R.B.G.\", a moniker she later embraced.\n",
      "Ginsburg was born and grew up in Brooklyn, New York. Her older sister, Marilyn, died of meningitis at the age of six, when Joan was a baby, and her mother died shortly before she graduated from high school. She earned her bachelor's degree at Cornell University and married Martin D. Ginsburg, becoming a mother before starting law school at Harvard, where she was one of the few women in her class. Ginsburg transferred to Columbia Law School, where she graduated joint first in her class. During the early 1960s she worked with the Columbia Law School Project on International Procedure, learned Swedish, and co-authored a book with Swedish jurist Anders Bruzelius; her work in Sweden profoundly influenced her thinking on gender equality. She then became a professor at Rutgers Law School and Columbia Law School, teaching civil procedure as one of the few women in her field.\n",
      "Ginsburg spent much of her legal career as an advocate for gender equality and women's rights, winning many arguments before the Supreme Court. She advocated as a volunteer attorney for the American Civil Liberties Union and was a member of its board of directors and one of its general counsel in the 1970s. In 1980, President Jimmy Carter appointed her to the U.S. Court of Appeals for the District of Columbia Circuit, where she served until her appointment to the Supreme Court in 1993. Between O'Connor's retirement in 2006 and the appointment of Sonia Sotomayor in 2009, she was the only female justice on the Supreme Court. During that time, Ginsburg became more forceful with her dissents, such as with Ledbetter v. Goodyear Tire & Rubber Co. (2007).\n",
      "Despite two bouts with cancer and public pleas from liberal law scholars, she decided not to retire in 2013 or 2014 when President Barack Obama and a Democratic-controlled Senate could appoint and confirm her successor. Ginsburg died at her home in Washington, D.C., in September 2020, at the age of 87, from complications of metastatic pancreatic cancer. The vacancy created by her death was filled 39 days later by Amy Coney Barrett. The result was one of three major rightward shifts in the Court since 1953, following the appointment of Clarence Thomas to replace Thurgood Marshall in 1991 and the appointment of Warren Burger to replace Earl Warren in 1969.\n"
     ]
    }
   ],
   "source": [
    "output = wiki_tool.run('pyladies')\n",
    "output = wiki_tool.run('ruth bader ginsburg')\n",
    "\n",
    "print(output)"
   ]
  },
  {
   "cell_type": "code",
   "execution_count": 99,
   "metadata": {},
   "outputs": [
    {
     "data": {
      "text/plain": [
       "str"
      ]
     },
     "execution_count": 99,
     "metadata": {},
     "output_type": "execute_result"
    }
   ],
   "source": [
    "type(output)"
   ]
  },
  {
   "cell_type": "code",
   "execution_count": null,
   "metadata": {},
   "outputs": [],
   "source": [
    "# does not work\n",
    "\n",
    "# from langchain_community.retrievers import WikipediaRetriever\n",
    "# retriever = WikipediaRetriever()\n",
    "\n",
    "# print(retriever.invoke('what is barbie?'))"
   ]
  },
  {
   "cell_type": "markdown",
   "metadata": {},
   "source": [
    "# [Custom tools](https://python.langchain.com/v0.1/docs/modules/tools/custom_tools/)\n",
    "\n",
    "Key components:\n",
    "* name (str), is required and must be unique within a set of tools provided to an agent\n",
    "* description (str), is optional but recommended, as it is used by an agent to determine tool use\n",
    "* args_schema (Pydantic BaseModel), is optional but recommended, can be used to provide more information (e.g., few-shot examples) or validation for expected parameters.\n",
    "* what about a tool to save QA to a file\n",
    "\n",
    "Tools can be defined in various ways, we will focus on the [StructuredTool dataclass](https://python.langchain.com/v0.1/docs/modules/tools/custom_tools/#structuredtool-dataclass)"
   ]
  },
  {
   "cell_type": "code",
   "execution_count": 89,
   "metadata": {},
   "outputs": [],
   "source": [
    "# Import things that are needed generically\n",
    "from langchain.pydantic_v1 import BaseModel, Field\n",
    "# from langchain.tools import BaseTool, StructuredTool, tool\n",
    "from langchain.tools import StructuredTool\n",
    "\n",
    "class CalculatorInput(BaseModel):\n",
    "    a: int = Field(description=\"first number\")\n",
    "    b: int = Field(description=\"second number\")\n",
    "\n",
    "\n",
    "def multiply(a: int, b: int) -> int:\n",
    "    \"\"\"Multiply two numbers.\"\"\"\n",
    "    return a * b\n",
    "\n",
    "\n",
    "calculator_tool = StructuredTool.from_function(\n",
    "    func=multiply,\n",
    "    name=\"Calculator\",\n",
    "    description=\"multiply numbers\",\n",
    "    args_schema=CalculatorInput,\n",
    "    # return_direct=True,\n",
    "    # coroutine= ... <- you can specify an async method if desired as well\n",
    ")"
   ]
  },
  {
   "cell_type": "markdown",
   "metadata": {},
   "source": [
    "# Exercise: Write your own tool "
   ]
  },
  {
   "cell_type": "code",
   "execution_count": 46,
   "metadata": {},
   "outputs": [],
   "source": [
    "##"
   ]
  },
  {
   "cell_type": "markdown",
   "metadata": {},
   "source": [
    "# Combine tools"
   ]
  },
  {
   "cell_type": "code",
   "execution_count": 90,
   "metadata": {},
   "outputs": [],
   "source": [
    "# tools = [tool, calculator]\n",
    "tools = [calculator_tool, wiki_tool]"
   ]
  },
  {
   "cell_type": "markdown",
   "metadata": {},
   "source": [
    "# Define Agent in 3 lines"
   ]
  },
  {
   "cell_type": "code",
   "execution_count": null,
   "metadata": {},
   "outputs": [],
   "source": [
    "# dependencies\n",
    "from langchain_openai import ChatOpenAI # call openAI as agent llm\n",
    "from langchain import hub # for the prompt, we are going to skip this\n",
    "from langchain.agents import create_tool_calling_agent # set up the agent\n",
    "from langchain.agents import AgentExecutor # execute agent"
   ]
  },
  {
   "cell_type": "code",
   "execution_count": 93,
   "metadata": {},
   "outputs": [
    {
     "data": {
      "text/plain": [
       "[SystemMessagePromptTemplate(prompt=PromptTemplate(input_variables=[], template='You are a helpful assistant')),\n",
       " MessagesPlaceholder(variable_name='chat_history', optional=True),\n",
       " HumanMessagePromptTemplate(prompt=PromptTemplate(input_variables=['input'], template='{input}')),\n",
       " MessagesPlaceholder(variable_name='agent_scratchpad')]"
      ]
     },
     "execution_count": 93,
     "metadata": {},
     "output_type": "execute_result"
    }
   ],
   "source": [
    "\n",
    "# agent llm\n",
    "key = 'sk-proj-XX'\n",
    "llm = ChatOpenAI(model=\"gpt-3.5-turbo-0125\", temperature=0, api_key=key)\n",
    "\n",
    "# Get the prompt to use - you can modify this!\n",
    "prompt = hub.pull(\"hwchase17/openai-functions-agent\")\n",
    "prompt.messages\n",
    "\n"
   ]
  },
  {
   "cell_type": "code",
   "execution_count": 94,
   "metadata": {},
   "outputs": [
    {
     "name": "stdout",
     "output_type": "stream",
     "text": [
      "\n",
      "\n",
      "\u001b[1m> Entering new AgentExecutor chain...\u001b[0m\n",
      "\u001b[32;1m\u001b[1;3m\n",
      "Invoking: `wikipedia` with `Ryan Gosling`\n",
      "\n",
      "\n",
      "\u001b[0m\u001b[33;1m\u001b[1;3mPage: Ryan Gosling\n",
      "Summary: Ryan Thomas Gosling ( GOSS-ling; born November 12, 1980) is a Canadian actor. Prominent in both independent films and major studio features, his films have grossed over $2 billion worldwide. Gosling has received various accolades, including a Golden Globe Award, and nominations for three Academy Awards and two British Academy Film Awards.\n",
      "Gosling rose to prominence at age 13 on Disney Channel's The Mickey Mouse Club (1993–1995), and went on to appear in other family entertainment programs, including Are You Afraid of the Dark? (1995) and Goosebumps (1996). His breakthrough film role was that of a Jewish neo-Nazi in The Believer (2001), and he gained stardom in the 2004 romantic drama The Notebook. He starred in the critically acclaimed independent dramas Half Nelson (2006), for which he was nominated for the Academy Award for Best Actor; Lars and the Real Girl (2007), and Blue Valentine (2010). \n",
      "In 2011, Gosling had three mainstream successes in the romantic comedy Crazy, Stupid, Love, the political drama The Ides of March, and the action thriller Drive. After making his directorial debut with Lost River (2014), he starred in the financial satire The Big Short (2015), the action comedy The Nice Guys (2016), and the romantic musical La La Land (2016), the latter of which won him a Golden Globe and a second Academy Award nomination for Best Actor. Further acclaim followed with the science fiction film Blade Runner 2049 (2017) and the biopic First Man (2018). In 2023, he played Ken in the fantasy comedy Barbie, which emerged as his highest-grossing release and earned him a nomination for the Academy Award for Best Supporting Actor.\n",
      "Gosling's band, Dead Man's Bones, released their self-titled debut album and toured North America in 2009. He is a co-owner of Tagine, a Moroccan restaurant in Beverly Hills, California. He is a supporter of PETA, Invisible Children, and the Enough Project and has traveled to Chad, Uganda and eastern Congo to raise awareness about conflicts in the regions. He has been involved in peace promotion efforts in Africa for over a decade. He is in a relationship with actress Eva Mendes, with whom he has two daughters.\u001b[0m\u001b[32;1m\u001b[1;3mRyan Thomas Gosling is a Canadian actor known for his work in both independent films and major studio features. He has received various accolades, including a Golden Globe Award, and nominations for three Academy Awards and two British Academy Film Awards. Gosling rose to prominence at age 13 on Disney Channel's The Mickey Mouse Club and has since starred in a variety of films, including The Notebook, Half Nelson, La La Land, and Blade Runner 2049. He is also a musician and a co-owner of a Moroccan restaurant in Beverly Hills. Gosling is involved in various charitable causes and is in a relationship with actress Eva Mendes, with whom he has two daughters.\u001b[0m\n",
      "\n",
      "\u001b[1m> Finished chain.\u001b[0m\n"
     ]
    },
    {
     "data": {
      "text/plain": [
       "{'input': 'who is Ryan Gosling?',\n",
       " 'output': \"Ryan Thomas Gosling is a Canadian actor known for his work in both independent films and major studio features. He has received various accolades, including a Golden Globe Award, and nominations for three Academy Awards and two British Academy Film Awards. Gosling rose to prominence at age 13 on Disney Channel's The Mickey Mouse Club and has since starred in a variety of films, including The Notebook, Half Nelson, La La Land, and Blade Runner 2049. He is also a musician and a co-owner of a Moroccan restaurant in Beverly Hills. Gosling is involved in various charitable causes and is in a relationship with actress Eva Mendes, with whom he has two daughters.\"}"
      ]
     },
     "execution_count": 94,
     "metadata": {},
     "output_type": "execute_result"
    }
   ],
   "source": [
    "# agent definition\n",
    "agent = create_tool_calling_agent(llm, tools, prompt)\n",
    "agent_executor = AgentExecutor(agent=agent, tools=tools, verbose=True)\n"
   ]
  },
  {
   "cell_type": "code",
   "execution_count": 108,
   "metadata": {},
   "outputs": [
    {
     "name": "stdout",
     "output_type": "stream",
     "text": [
      "\n",
      "\n",
      "\u001b[1m> Entering new AgentExecutor chain...\u001b[0m\n",
      "\u001b[32;1m\u001b[1;3m\n",
      "Invoking: `wikipedia` with `Mollie`\n",
      "\n",
      "\n",
      "\u001b[0m"
     ]
    },
    {
     "name": "stderr",
     "output_type": "stream",
     "text": [
      "/Users/maria/Library/Python/3.9/lib/python/site-packages/wikipedia/wikipedia.py:389: GuessedAtParserWarning: No parser was explicitly specified, so I'm using the best available HTML parser for this system (\"html.parser\"). This usually isn't a problem, but if you run this code on another system, or in a different virtual environment, it may use a different parser and behave differently.\n",
      "\n",
      "The code that caused this warning is on line 389 of the file /Users/maria/Library/Python/3.9/lib/python/site-packages/wikipedia/wikipedia.py. To get rid of this warning, pass the additional argument 'features=\"html.parser\"' to the BeautifulSoup constructor.\n",
      "\n",
      "  lis = BeautifulSoup(html).find_all('li')\n"
     ]
    },
    {
     "name": "stdout",
     "output_type": "stream",
     "text": [
      "\u001b[33;1m\u001b[1;3mNo good Wikipedia Search Result was found\u001b[0m\u001b[32;1m\u001b[1;3mI couldn't find any specific information about \"Mollie\" on Wikipedia. Would you like me to search for more general information or try to answer a different question related to Mollie?\u001b[0m\n",
      "\n",
      "\u001b[1m> Finished chain.\u001b[0m\n"
     ]
    },
    {
     "data": {
      "text/plain": [
       "{'input': 'what is mollie?',\n",
       " 'output': 'I couldn\\'t find any specific information about \"Mollie\" on Wikipedia. Would you like me to search for more general information or try to answer a different question related to Mollie?'}"
      ]
     },
     "execution_count": 108,
     "metadata": {},
     "output_type": "execute_result"
    }
   ],
   "source": [
    "# agent_executor.invoke({\"input\": \"who is Ryan Gosling?\"})\n",
    "# agent_executor.invoke({\"input\": \"what is three times 5\"})\n",
    "question = \"How old is Ryan gosling?\"\n",
    "question = 'how many children did ruth bader ginsburg have?'\n",
    "question = 'write me a short summary about ruth bader ginsburg'\n",
    "question = 'what was ruth bader ginsburg passionate about?'\n",
    "question = 'who were ruth baeder ginsburgs colleagues at the supreme court?'\n",
    "question = 'what are great holiday destinations?'\n",
    "question = 'which city is bigger: Paris or Munich?'\n",
    "question = 'what is mollie?'\n",
    "agent_executor.invoke({\"input\": question})\n"
   ]
  },
  {
   "cell_type": "markdown",
   "metadata": {},
   "source": []
  },
  {
   "cell_type": "markdown",
   "metadata": {},
   "source": [
    "# the magic behind the agent [link](https://api.python.langchain.com/en/latest/_modules/langchain/agents/tool_calling_agent/base.html#create_tool_calling_agent)"
   ]
  },
  {
   "cell_type": "code",
   "execution_count": null,
   "metadata": {},
   "outputs": [],
   "source": []
  },
  {
   "cell_type": "code",
   "execution_count": null,
   "metadata": {},
   "outputs": [],
   "source": []
  },
  {
   "cell_type": "markdown",
   "metadata": {},
   "source": [
    "# Sources\n",
    "* https://python.langchain.com/docs/modules/agents/quick_start/"
   ]
  },
  {
   "cell_type": "markdown",
   "metadata": {},
   "source": []
  }
 ],
 "metadata": {
  "kernelspec": {
   "display_name": "Python 3",
   "language": "python",
   "name": "python3"
  },
  "language_info": {
   "codemirror_mode": {
    "name": "ipython",
    "version": 3
   },
   "file_extension": ".py",
   "mimetype": "text/x-python",
   "name": "python",
   "nbconvert_exporter": "python",
   "pygments_lexer": "ipython3",
   "version": "3.9.6"
  }
 },
 "nbformat": 4,
 "nbformat_minor": 2
}
